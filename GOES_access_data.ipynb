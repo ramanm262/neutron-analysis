{
 "cells": [
  {
   "cell_type": "code",
   "execution_count": null,
   "metadata": {},
   "outputs": [],
   "source": [
    "#This program can be run offline but requires the proper input text file: https://www.ngdc.noaa.gov/stp/satellite/goes/doc/SPE.txt\n",
    "import requests #For html access\n",
    "import matplotlib.pyplot as plt\n",
    "import numpy as np\n",
    "import pandas as pd\n",
    "from bs4 import BeautifulSoup #For html parsing"
   ]
  },
  {
   "cell_type": "code",
   "execution_count": null,
   "metadata": {},
   "outputs": [],
   "source": [
    "def read_EPS_data(file_name='GOES_SEP_raw.txt'):\n",
    "    '''\n",
    "    This function reads the raw data file for the SEP events recorded by GOES and stores relevant information to a\n",
    "    separate file, in a much more easily readable format. This file must be in the same directory as this script.\n",
    "    The data can be found at:\n",
    "    https://www.ngdc.noaa.gov/stp/satellite/goes/doc/SPE.txt\n",
    "    This file is difficult to parse since it does not have a single standard format. As such, there are many if-\n",
    "    statements in this function that are not necessary on better-formatted data. Even with these checks, the\n",
    "    formatting of the input file is so inconsistent that some information is still not read properly. The output\n",
    "    file of this function will therefore contain only 225 events, whereas the input file contains about 266 events.\n",
    "    \n",
    "    Arguments\n",
    "    file_name:\n",
    "    The name of the .txt file containing the data from GOES. 'GOES_SEP_raw.txt' by default.\n",
    "    output_file_name: The name of the .txt file to which this function will write its output dataframe.\n",
    "    'GOES_SEP_flares.txt' by default.\n",
    "    \n",
    "    Returns\n",
    "    Does not return anything. Instead, writes to a file in the same directory as this script.\n",
    "    '''\n",
    "    \n",
    "    #Read in all the data from the input file as a list of lines (each line is one event)\n",
    "    with open(file_name, 'r') as file:\n",
    "        text = file.read()\n",
    "    contents = text.splitlines()\n",
    "    \n",
    "    all_events = pd.DataFrame([]) #Initialize a dataframe in which to store the output data\n",
    "    col_num = 0  #Initialize an int with which to name columns of all_events. Ensures no two columns have the same name.\n",
    "    for line in contents:\n",
    "        line = line.replace('\\t','') #Remove tab characters\n",
    "        if len(line.replace(' ','')) == 4 and line != 'none': #If the line contains just a year (e.g. 1995)\n",
    "            year = line.replace(' ','') #Remove spaces\n",
    "        else:\n",
    "            if len(line) > 5:\n",
    "                s=0\n",
    "                s2=0\n",
    "                #s and s2 are variables that help account for shifts in the location of certain bytes in the strings of certain events\n",
    "                if int(year) == 2002 or int(year) == 2003:\n",
    "                    s=9\n",
    "                    s2=16\n",
    "                if int(year) >= 2004:\n",
    "                    s2=1\n",
    "                peak_month = line[56-s:59-s]\n",
    "                peak_day = line[60-s:62-s]\n",
    "                peak_time = line[63-s:67-s]\n",
    "                flare_loc = line[82-s2:88-s2]\n",
    "                flare_class = line[70-s:72-s]\n",
    "                this_event = [year, peak_month, peak_day, peak_time, flare_loc, flare_class]\n",
    "\n",
    "                months_dict = {1:\"Jan\",2:\"Feb\",3:\"Mar\",4:\"Apr\",5:\"May\",6:\"Jun\",7:\"Jul\",8:\"Aug\",9:\"Sep\",10:\"Oct\",11:\"Nov\",12:\"Dec\"}\n",
    "\n",
    "                if peak_month in months_dict.values():  #Ensures that rows with hard-to-read months don't make it into the dataframe\n",
    "                    all_events = pd.concat([all_events,pd.DataFrame(this_event,columns=[col_num])], axis=1) #Add data for the considered event to the final dataframe\n",
    "                    col_num+=1\n",
    "\n",
    "    all_events = all_events.rename(index={0: \"year\", 1: \"month\", 2: \"day\", 3: \"peak_time\", 4: \"location\", 5: \"class\"}) #Rename the rows of the dataframe to be more descriptive\n",
    "\n",
    "    all_events.to_csv(output_file_name) #Write the dataframe to file"
   ]
  },
  {
   "cell_type": "code",
   "execution_count": null,
   "metadata": {},
   "outputs": [],
   "source": [
    "read_EPS_data()"
   ]
  }
 ],
 "metadata": {
  "kernelspec": {
   "display_name": "Python 3",
   "language": "python",
   "name": "python3"
  },
  "language_info": {
   "codemirror_mode": {
    "name": "ipython",
    "version": 3
   },
   "file_extension": ".py",
   "mimetype": "text/x-python",
   "name": "python",
   "nbconvert_exporter": "python",
   "pygments_lexer": "ipython3",
   "version": "3.6.5"
  }
 },
 "nbformat": 4,
 "nbformat_minor": 2
}
