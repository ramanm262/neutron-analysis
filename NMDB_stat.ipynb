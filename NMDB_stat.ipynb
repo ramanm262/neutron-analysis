{
 "cells": [
  {
   "cell_type": "code",
   "execution_count": null,
   "metadata": {},
   "outputs": [],
   "source": [
    "import numpy as np\n",
    "import pandas as pd"
   ]
  },
  {
   "cell_type": "code",
   "execution_count": null,
   "metadata": {},
   "outputs": [],
   "source": [
    "def stat_analysis(series, m=5, n=1.5):\n",
    "    '''\n",
    "    Performs a statistical method to detect anomalies in NMDB data.\n",
    "    Sweeps a window across the input time series. Finds the mean and standard deviation of points in the window at\n",
    "    every iteration. If a point entering the window is a certain number of standard deviations above the mean, then\n",
    "    the point is remembered. If three such points occur in a row, the final point in the triplet is marked as an\n",
    "    \"anomaly\" and its position is returned in a list of all such anomalies in the input series.\n",
    "    \n",
    "    Arguments\n",
    "    series: The input time series from NMDB. List-like. Should be equivalent to a single column or section of a\n",
    "    column of a dataframe produced by NMDB_access_data.ipynb.\n",
    "    m: The size of the scanning window. Must be of type int.\n",
    "    The smaller the window, the more likely this function is to classify a point as anomalous (even if it's not\n",
    "    really anomalous). The larger the window, the less likely this function is to misclassify a point as anomalous,\n",
    "    but it will also be less likely to classify points as anomalous even when they are really anomalous. In other\n",
    "    words, small m risks Type 1 statistical errors, whereas large m risks Type 2 errors.\n",
    "    A good value of m is probably around 4 to 50 for an input series of length 44640.\n",
    "    n: The number of standard deviations above the mean of the window a point must be to be remembered for later\n",
    "    possible classification as anomalous. The smaller n is, the more likely this function is to classify a point\n",
    "    as anomalous (even if it's not really anomalous). The larger n is, the less likely this function is to\n",
    "    misclassify a point as anomalous, but it will also be less likely to classify points as anomalous even when they\n",
    "    are really anomalous. In other words, small n risks Type 1 statistical errors, whereas large n risks Type 2 errors.\n",
    "    A good value of n is probably around 1.5 to 4.\n",
    "    \n",
    "    Returns\n",
    "    anomaly_location_list: A list of all time stamps for which the corresponding point's count/s value and the two\n",
    "    preceding points' counts/s values exceeded the mean and standard deviation of the window. In other words, a list\n",
    "    of timestamps corresponding to significantly anomalous regions of the input time series.\n",
    "    '''\n",
    "    #Initialize a list to contain counts/s values of successive points, then fill it with the first m values\n",
    "    window = []\n",
    "    for point in range(m):\n",
    "        window.append(series[point])\n",
    "    \n",
    "    #Initialize a list to store timestamps of significantly anomalous points\n",
    "    anomaly_location_list = []\n",
    "    #Initialize an array to store \"memories\" of whether a not a point exceeded the mean+n*std threshold\n",
    "    exceeded_thresh_list = np.zeros(m)\n",
    "    \n",
    "    for point in range(m, len(series)):\n",
    "        mean = np.mean(window)\n",
    "        std = np.std(window)\n",
    "        anomaly_threshold = mean + n*std\n",
    "        \n",
    "        #Remember whether or not a point exceeded the threshold\n",
    "        if series[point] >= anomaly_threshold:\n",
    "            exceeded_thresh_list = np.append(exceeded_thresh_list, 1)\n",
    "        elif series[point] < anomaly_threshold:\n",
    "            exceeded_thresh_list = np.append(exceeded_thresh_list, 0)\n",
    "        \n",
    "        #If three successive points exceeded the threshold, mark it as significantly anomalous\n",
    "        if exceeded_thresh_list[point] == 1 and exceeded_thresh_list[point-1] == 1 and exceeded_thresh_list[point-2] == 1:\n",
    "            anomaly_location_list.append(point)\n",
    "        \n",
    "        #Slide the window left to right by one step each time this loop occurs\n",
    "        window.pop(0)\n",
    "        window.append(series[point])        \n",
    "    \n",
    "    return(anomaly_location_list)"
   ]
  },
  {
   "cell_type": "code",
   "execution_count": null,
   "metadata": {},
   "outputs": [],
   "source": [
    "stat_analysis('Nov_2003_NMDB.txt', m=10, n=2.5)"
   ]
  }
 ],
 "metadata": {
  "kernelspec": {
   "display_name": "Python 3",
   "language": "python",
   "name": "python3"
  },
  "language_info": {
   "codemirror_mode": {
    "name": "ipython",
    "version": 3
   },
   "file_extension": ".py",
   "mimetype": "text/x-python",
   "name": "python",
   "nbconvert_exporter": "python",
   "pygments_lexer": "ipython3",
   "version": "3.6.5"
  }
 },
 "nbformat": 4,
 "nbformat_minor": 2
}
