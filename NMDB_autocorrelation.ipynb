{
 "cells": [
  {
   "cell_type": "code",
   "execution_count": null,
   "metadata": {},
   "outputs": [],
   "source": [
    "import pandas as pd\n",
    "import matplotlib.pyplot as plt\n",
    "%matplotlib inline\n",
    "import numpy as np"
   ]
  },
  {
   "cell_type": "code",
   "execution_count": null,
   "metadata": {},
   "outputs": [],
   "source": [
    "def autocorrelate(file_name, key_time, tau_range, plot_columns=[]):\n",
    "    '''\n",
    "    Does autocorrelation analysis on each series in the input file. Each file should be created by the download_data function\n",
    "    from NMDB_access_data.ipynb. Returns the discrete autocorrelation function for each series in the input file, and plots\n",
    "    the functions that the user selects.\n",
    "    \n",
    "    Arguments\n",
    "    file_name:\n",
    "    The name of the file containing the timeseries you want to be autocorrelated. This file should have been created by the\n",
    "    download_data function from NMDB_access_data.ipynb.\n",
    "    key_time:\n",
    "    An integer that corresponds to the minute of the month you want to define the autocorrelation bounds with. This minute will\n",
    "    become the right bound of the autocorrelation window (the window in which the two series are summed once multiplied).\n",
    "    tau_range:\n",
    "    An integer that corresponds to the maximum value of tau you wish the function to reach. The left bound of the\n",
    "    autocorrelation window will be key_time-tau_range. Autocorrelation is done from tau=0 to tau=tau_range in steps of 1 minute.\n",
    "    plot_columns:\n",
    "    A list-like containing the string codenames of the stations whse autocorrelation functions you wish to plot. For instance,\n",
    "    if plot_columns=['SOPO','INVK'], then the autocorrelation functions of the SOPO and INVK monitors for the corresponding year,\n",
    "    month, and time range will be plotted. By default, no plots will be created.\n",
    "    \n",
    "    Returns\n",
    "    all_corr_values:\n",
    "    A list of lists; each constituent list has elements corresponding to the autocorrelation values of the time series at\n",
    "    different values of tau. Each list of autocorrelation values can be plotted individually against tau.\n",
    "    '''\n",
    "\n",
    "    X = pd.read_csv(file_name, index_col=0) #load in the requested file\n",
    "\n",
    "    #Interpolate all NaN values. If they can't be interpolated (i.e. at the beginning or end of a series), then try to forward-fill them, then try to backward-fill them\n",
    "    X = X.interpolate(axis=0)\n",
    "    X = X.fillna(method='ffill',axis=0)\n",
    "    X = X.fillna(method='bfill',axis=0)\n",
    "    \n",
    "    \n",
    "    all_corr_values = [] #Initialize a list to return all the autocorrelation functions\n",
    "    for column in X:\n",
    "        series = X[column]-X[column].min() #Shift x-axis up to minimum value, aka change of origin\n",
    "        series_window = (key_time-tau_range,key_time)\n",
    "\n",
    "        corr_values = [] #Initialize a list in which to store the products of the series and its shifted versions at different tau\n",
    "        for tau in range(tau_range):\n",
    "            shifted_series = series.shift(-tau) #Create a shifted series\n",
    "            corr_series=(shifted_series[series_window[0]:series_window[1]]*\n",
    "                          series[series_window[0]:series_window[1]]) #Autocorrelate the series\n",
    "            corr_value = corr_series.sum() #Sum the autocorrelated series' elements\n",
    "            corr_values.append(corr_value) #Append the sum for this specific tau to the list\n",
    "        all_corr_values.append(corr_values) #Append this autocorrelation function to the list of all autocorrelation functions\n",
    "        \n",
    "        \n",
    "        if column in plot_columns:\n",
    "            plt.figure(figsize=(10,3.8))\n",
    "            plt.plot(np.arange(len(corr_values)),corr_values)\n",
    "            plt.title('Autocorrelation as a function of $\\\\tau$ for {}, {} {} GLE'.format(column, file_name[:-14],file_name[4:-9]))\n",
    "            plt.xlabel('Timeshift $ \\\\tau $',size=14)\n",
    "            plt.ylabel('Correlation Factor $C(t, \\\\tau)$',size=14)\n",
    "            \n",
    "            plt.figure(figsize=(10,3.8))\n",
    "            X[column][series_window[0]-60:series_window[1]+100].plot()\n",
    "            plt.title('Raw data for {}, {} {} GLE'.format(column,file_name[:-14],file_name[4:-9]))\n",
    "            plt.xlabel('Time',size=14)\n",
    "            plt.ylabel('Count/s',size=14)\n",
    "            \n",
    "    return(all_corr_values)"
   ]
  },
  {
   "cell_type": "code",
   "execution_count": null,
   "metadata": {},
   "outputs": [],
   "source": [
    "autocorrelate('Nov_2003_NMDB.txt', key_time=2550, tau_range=160, plot_columns = ['SOPO'])"
   ]
  }
 ],
 "metadata": {
  "kernelspec": {
   "display_name": "Python 3",
   "language": "python",
   "name": "python3"
  },
  "language_info": {
   "codemirror_mode": {
    "name": "ipython",
    "version": 3
   },
   "file_extension": ".py",
   "mimetype": "text/x-python",
   "name": "python",
   "nbconvert_exporter": "python",
   "pygments_lexer": "ipython3",
   "version": "3.6.5"
  }
 },
 "nbformat": 4,
 "nbformat_minor": 2
}
